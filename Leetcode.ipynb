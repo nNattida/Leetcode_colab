{
  "nbformat": 4,
  "nbformat_minor": 0,
  "metadata": {
    "colab": {
      "provenance": [],
      "authorship_tag": "ABX9TyPt9b1vTf7pkfgffDUOeHNQ",
      "include_colab_link": true
    },
    "kernelspec": {
      "name": "python3",
      "display_name": "Python 3"
    },
    "language_info": {
      "name": "python"
    }
  },
  "cells": [
    {
      "cell_type": "markdown",
      "metadata": {
        "id": "view-in-github",
        "colab_type": "text"
      },
      "source": [
        "<a href=\"https://colab.research.google.com/github/nNattida/Leetcode/blob/main/Leetcode.ipynb\" target=\"_parent\"><img src=\"https://colab.research.google.com/assets/colab-badge.svg\" alt=\"Open In Colab\"/></a>"
      ]
    },
    {
      "cell_type": "code",
      "source": [
        "# Leetcode_1 (1)\n",
        "nums = [9,7,15,2] #List[int]\n",
        "target = 9\n",
        "\n",
        "for i in range(len(nums)):\n",
        "  for j in range(i+1, len(nums)):\n",
        "    if nums[i] + nums[j] == target:\n",
        "      print(i,j) #output"
      ],
      "metadata": {
        "colab": {
          "base_uri": "https://localhost:8080/"
        },
        "id": "JrO2uaxNyBlh",
        "outputId": "ab783fc0-cae4-4f41-fba1-2245bcaf7793"
      },
      "execution_count": 168,
      "outputs": [
        {
          "output_type": "stream",
          "name": "stdout",
          "text": [
            "1 3\n"
          ]
        }
      ]
    },
    {
      "cell_type": "code",
      "source": [
        "# Leetcode_1 (2)\n",
        "nums = [2,7,8,15] #List[int]\n",
        "target = 9\n",
        "\n",
        "temp = {} # dic\n",
        "\n",
        "for idx, num in enumerate(nums):\n",
        "  rem = target - nums[idx] # remaining\n",
        "\n",
        "  if rem in temp:\n",
        "    print(temp[rem], idx) #output\n",
        "  temp[num] = idx "
      ],
      "metadata": {
        "colab": {
          "base_uri": "https://localhost:8080/"
        },
        "id": "FKc7spdsc6wn",
        "outputId": "db452984-2756-4617-83ad-8e1b609959ac"
      },
      "execution_count": 169,
      "outputs": [
        {
          "output_type": "stream",
          "name": "stdout",
          "text": [
            "0 1\n"
          ]
        }
      ]
    },
    {
      "cell_type": "code",
      "execution_count": 59,
      "metadata": {
        "colab": {
          "base_uri": "https://localhost:8080/"
        },
        "id": "2mlijqF6mROC",
        "outputId": "b8ddd71e-140a-421b-cb7d-c99a7874f276"
      },
      "outputs": [
        {
          "output_type": "stream",
          "name": "stdout",
          "text": [
            "1994\n"
          ]
        }
      ],
      "source": [
        "# Leetcode_13\n",
        "s = \"MCMXCIV\" #input\n",
        "Symbol = {'I':1, 'V':5, 'X':10, 'L':50, 'C':100, 'D': 500, 'M':1000}\n",
        "sum = 0\n",
        "\n",
        "for i in range(len(s)-1):\n",
        "  if Symbol[s[i]] >= Symbol[s[i+1]]:\n",
        "    sum += Symbol[s[i]]\n",
        "  else:\n",
        "    sum -= Symbol[s[i]]\n",
        "\n",
        "print(sum + Symbol[input[-1]]) #output"
      ]
    },
    {
      "cell_type": "code",
      "source": [
        "# Leetcode_14\n",
        "strs = [\"apple\",\"pineapple\",\"applepie\"] #input\n",
        "short = min(strs, key=len)\n",
        "\n",
        "for word in strs:\n",
        "  if len(short) == 0: \n",
        "    break\n",
        "  else:\n",
        "    while len(short) > 0:\n",
        "      if word.startswith(short):\n",
        "        break\n",
        "      else:\n",
        "        short = short[:-1]\n",
        "\n",
        "print(short) #output"
      ],
      "metadata": {
        "colab": {
          "base_uri": "https://localhost:8080/"
        },
        "id": "3iDGwLZsStHz",
        "outputId": "61954612-ac54-43ab-c295-9a8d757b1570"
      },
      "execution_count": 68,
      "outputs": [
        {
          "output_type": "stream",
          "name": "stdout",
          "text": [
            "\n"
          ]
        }
      ]
    },
    {
      "cell_type": "code",
      "source": [
        "# Leetcode 344.Reverse String\n",
        "s = [\"h\",\"e\",\"l\",\"l\",\"o\"] #input\n",
        "\n",
        "i = 0\n",
        "j = len(s)-1\n",
        "\n",
        "#s[:]=s[::-1]\n",
        "\n",
        "while (i<j):\n",
        "  s[i],s[j] = s[j],s[i]\n",
        "  i+=1\n",
        "  j-=1\n",
        "\n",
        "print(s) #output"
      ],
      "metadata": {
        "colab": {
          "base_uri": "https://localhost:8080/"
        },
        "id": "WH7m-ST89KOr",
        "outputId": "47d86eea-7a63-4cdf-8330-90607404ac3c"
      },
      "execution_count": 222,
      "outputs": [
        {
          "output_type": "stream",
          "name": "stdout",
          "text": [
            "['o', 'l', 'l', 'e', 'h']\n"
          ]
        }
      ]
    },
    {
      "cell_type": "code",
      "source": [
        "#Leetcode 541. Reverse String II\n",
        "s = \"abcdefg\" #input\n",
        "k = 2\n",
        "out = \"\"\n",
        "for i in range(0,len(s),2*k):\n",
        "  out += (s[i:i+k][::-1]) + s[i+k:i+2*k]\n",
        "  print(i)\n",
        "print(out) #output"
      ],
      "metadata": {
        "colab": {
          "base_uri": "https://localhost:8080/"
        },
        "id": "Vq9V1TsGDhId",
        "outputId": "ff2dbbbb-f571-4fb8-f878-f072aa6b7ae1"
      },
      "execution_count": 257,
      "outputs": [
        {
          "output_type": "stream",
          "name": "stdout",
          "text": [
            "0\n",
            "4\n",
            "bacdfeg\n"
          ]
        }
      ]
    },
    {
      "cell_type": "code",
      "source": [
        "#Leetcode 1470(1)\n",
        "nums = [2,5,1,3,4,7] #input\n",
        "n = 3 #input\n",
        "\n",
        "out = [] # list\n",
        "for i in range(n):\n",
        "  out.append(nums[i])\n",
        "  out.append(nums[i+n])\n",
        "\n",
        "print(out) #output"
      ],
      "metadata": {
        "colab": {
          "base_uri": "https://localhost:8080/"
        },
        "id": "iQ1dbXoA5gSu",
        "outputId": "2db55f3c-6072-4ae9-b1b3-91322845b0df"
      },
      "execution_count": 187,
      "outputs": [
        {
          "output_type": "stream",
          "name": "stdout",
          "text": [
            "[2, 3, 5, 4, 1, 7]\n"
          ]
        }
      ]
    },
    {
      "cell_type": "code",
      "source": [
        "#Leetcode 1470(2)\n",
        "from itertools import chain\n",
        "\n",
        "nums = [2,5,1,3,4,7] #input\n",
        "n = 3 #input\n",
        "\n",
        "print(list(chain(*zip(nums[:n],nums[n:])))) #output"
      ],
      "metadata": {
        "colab": {
          "base_uri": "https://localhost:8080/"
        },
        "id": "IBZDsrOI13Vj",
        "outputId": "c35e84d7-f054-470f-d039-5dba73be2478"
      },
      "execution_count": 181,
      "outputs": [
        {
          "output_type": "stream",
          "name": "stdout",
          "text": [
            "[2, 3, 5, 4, 1, 7]\n"
          ]
        }
      ]
    }
  ]
}