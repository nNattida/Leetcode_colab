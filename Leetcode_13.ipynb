{
  "nbformat": 4,
  "nbformat_minor": 0,
  "metadata": {
    "colab": {
      "provenance": [],
      "authorship_tag": "ABX9TyNT6PQN5P6DaDX16ziMeADt",
      "include_colab_link": true
    },
    "kernelspec": {
      "name": "python3",
      "display_name": "Python 3"
    },
    "language_info": {
      "name": "python"
    }
  },
  "cells": [
    {
      "cell_type": "markdown",
      "metadata": {
        "id": "view-in-github",
        "colab_type": "text"
      },
      "source": [
        "<a href=\"https://colab.research.google.com/github/nNattida/Leetcode/blob/main/Leetcode_13.ipynb\" target=\"_parent\"><img src=\"https://colab.research.google.com/assets/colab-badge.svg\" alt=\"Open In Colab\"/></a>"
      ]
    },
    {
      "cell_type": "markdown",
      "source": [],
      "metadata": {
        "id": "vEF9kuKRmot9"
      }
    },
    {
      "cell_type": "code",
      "execution_count": 36,
      "metadata": {
        "colab": {
          "base_uri": "https://localhost:8080/"
        },
        "id": "2mlijqF6mROC",
        "outputId": "4354601b-7d31-4817-df72-25283177ef64"
      },
      "outputs": [
        {
          "output_type": "stream",
          "name": "stdout",
          "text": [
            "3\n"
          ]
        }
      ],
      "source": [
        "input = \"III\"\n",
        "Symbol = {'I':1, 'V':5, 'X':10, 'L':50, 'C':100, 'D': 500, 'M':1000}\n",
        "sum = 0\n",
        "\n",
        "\n",
        "for i in range(len(input)-1):\n",
        "  if Symbol[input[i]] >= Symbol[input[i+1]]:\n",
        "    sum = sum + Symbol[input[i]]\n",
        "  else:\n",
        "    sum = sum - Symbol[input[i]]\n",
        "\n",
        "print(sum + Symbol[input[-1]])\n"
      ]
    }
  ]
}